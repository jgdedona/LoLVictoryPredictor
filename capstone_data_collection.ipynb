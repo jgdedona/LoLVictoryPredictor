{
 "cells": [
  {
   "cell_type": "code",
   "execution_count": null,
   "id": "9e913c88",
   "metadata": {},
   "outputs": [],
   "source": [
    "import pandas as pd\n",
    "import numpy as np\n",
    "import json\n",
    "import os\n",
    "import requests\n",
    "import time"
   ]
  },
  {
   "cell_type": "markdown",
   "id": "07ea0d01",
   "metadata": {},
   "source": [
    "# Please do not run any cells past this point until directed otherwise"
   ]
  },
  {
   "cell_type": "markdown",
   "id": "4e8b0dee",
   "metadata": {},
   "source": [
    "Many of these cells require API access to function. Please do not run any cells until you see this comment:\n",
    "\n",
    "\"To recreate the data transformation process, please run the cells below.\"\n",
    "\n",
    "Additionally, data frames are frequently saved to the file system throughout this code. All file system interaction has been commented out to prevent unintentional overwriting of existing csvs."
   ]
  },
  {
   "cell_type": "markdown",
   "id": "1c5646ff",
   "metadata": {},
   "source": [
    "# Data Collection"
   ]
  },
  {
   "cell_type": "code",
   "execution_count": null,
   "id": "37abe8c9",
   "metadata": {},
   "outputs": [],
   "source": [
    "# Insert API key as environmental variable before running the notebook. Variable is 'key'\n",
    "#%env key="
   ]
  },
  {
   "cell_type": "code",
   "execution_count": null,
   "id": "ce8a20c1",
   "metadata": {},
   "outputs": [],
   "source": [
    "# Importing a pre-made csv file containing all three hundrend summoners in the Challenger league\n",
    "df = pd.read_csv('challenger_test.csv')\n",
    "df"
   ]
  },
  {
   "cell_type": "code",
   "execution_count": null,
   "id": "ca144f86",
   "metadata": {},
   "outputs": [],
   "source": [
    "df.info()"
   ]
  },
  {
   "cell_type": "code",
   "execution_count": null,
   "id": "69f087ec",
   "metadata": {},
   "outputs": [],
   "source": [
    "type(df['entries'].iloc[0])"
   ]
  },
  {
   "cell_type": "code",
   "execution_count": null,
   "id": "987e3d2b",
   "metadata": {},
   "outputs": [],
   "source": [
    "# Converting JSON data to Python dictionary\n",
    "df['entries'] = df['entries'].map(eval)"
   ]
  },
  {
   "cell_type": "code",
   "execution_count": null,
   "id": "b48afb6c",
   "metadata": {},
   "outputs": [],
   "source": [
    "# Creating a column for each key in the 'entries' column\n",
    "df2 = pd.concat([df.drop('entries', axis=1), df['entries'].apply(pd.Series)], axis=1)"
   ]
  },
  {
   "cell_type": "code",
   "execution_count": null,
   "id": "68d48f18",
   "metadata": {},
   "outputs": [],
   "source": [
    "df2.drop('Unnamed: 0', axis=1, inplace=True)"
   ]
  },
  {
   "cell_type": "code",
   "execution_count": null,
   "id": "0c01d3fe",
   "metadata": {},
   "outputs": [],
   "source": [
    "#df.to_csv('formatted_challenger')"
   ]
  },
  {
   "cell_type": "markdown",
   "id": "e001c11e",
   "metadata": {},
   "source": [
    "### API Interface Functions"
   ]
  },
  {
   "cell_type": "code",
   "execution_count": null,
   "id": "b3855cdf",
   "metadata": {},
   "outputs": [],
   "source": [
    "def get_challenger(key):\n",
    "    r = requests.get(\"https://na1.api.riotgames.com/lol/league/v4/challengerleagues/by-queue/RANKED_SOLO_5x5\",\n",
    "            params={'api_key': key})\n",
    "    print(r.url)\n",
    "\n",
    "    return r.text\n",
    "\n",
    "def get_puuid(summoner_id, key):\n",
    "    r = requests.get(\"https://na1.api.riotgames.com/lol/summoner/v4/summoners/\" + summoner_id,\n",
    "                     params={'api_key': key})\n",
    "    print(r.url)\n",
    "    \n",
    "    return r.text\n",
    "\n",
    "def get_matches(puuid, key):\n",
    "    r = requests.get(\"https://americas.api.riotgames.com/lol/match/v5/matches/by-puuid/\" + puuid + \"/ids\",\n",
    "                    params={'start': 0, 'count': 100, 'api_key': key})\n",
    "    print(r.url)\n",
    "    \n",
    "    return r.text\n",
    "\n",
    "def get_match_stats(match_id, key):\n",
    "    r = requests.get(\"https://americas.api.riotgames.com/lol/match/v5/matches/\" + match_id,\n",
    "                     params={'api_key': key})\n",
    "    print(r.url)\n",
    "    \n",
    "    return r.text"
   ]
  },
  {
   "cell_type": "markdown",
   "id": "152daebf",
   "metadata": {},
   "source": [
    "### Pulling summoner account data from the API"
   ]
  },
  {
   "cell_type": "code",
   "execution_count": null,
   "id": "17896369",
   "metadata": {},
   "outputs": [],
   "source": [
    "testdf = pd.DataFrame([])\n",
    "testdf"
   ]
  },
  {
   "cell_type": "code",
   "execution_count": null,
   "id": "eb166dc3",
   "metadata": {},
   "outputs": [],
   "source": [
    "# Pulling summoner data from the API. If statement is necessary due to rate limiting\n",
    "for i in range(len(df2)):\n",
    "    if i != 0 and i % 100 == 0:\n",
    "        time.sleep(120)\n",
    "    testdf = pd.concat([testdf, pd.Series(get_puuid(df2['summonerId'][i], os.getenv('key')))], ignore_index=True)\n",
    "    \n",
    "testdf"
   ]
  },
  {
   "cell_type": "code",
   "execution_count": null,
   "id": "0b76c4f5",
   "metadata": {},
   "outputs": [],
   "source": [
    "testdf.info()"
   ]
  },
  {
   "cell_type": "code",
   "execution_count": null,
   "id": "ec7e8e1f",
   "metadata": {},
   "outputs": [],
   "source": [
    "#testdf.to_csv('unformatted_summoner_data')"
   ]
  },
  {
   "cell_type": "code",
   "execution_count": null,
   "id": "3543f4cb",
   "metadata": {},
   "outputs": [],
   "source": [
    "# Formatting data to convert into Python dictionary\n",
    "testdf[0] = testdf[0].apply(lambda x: x.replace('\\\"', \"\\'\"))"
   ]
  },
  {
   "cell_type": "code",
   "execution_count": null,
   "id": "f7f22312",
   "metadata": {},
   "outputs": [],
   "source": [
    "testdf[0] = testdf[0].map(eval)"
   ]
  },
  {
   "cell_type": "code",
   "execution_count": null,
   "id": "04e0c1ee",
   "metadata": {},
   "outputs": [],
   "source": [
    "# Creating a new formatted DataFrame containing summoner PUUIDs from formatted data\n",
    "puuid_df = pd.concat([testdf.drop(0, axis=1), testdf[0].apply(pd.Series)], axis=1)"
   ]
  },
  {
   "cell_type": "code",
   "execution_count": null,
   "id": "bb347dc5",
   "metadata": {},
   "outputs": [],
   "source": [
    "puuid_df"
   ]
  },
  {
   "cell_type": "code",
   "execution_count": null,
   "id": "013f1ded",
   "metadata": {},
   "outputs": [],
   "source": [
    "# Checking for empty rows\n",
    "puuid_empty = puuid_df[puuid_df.isna().any(axis=1)]"
   ]
  },
  {
   "cell_type": "code",
   "execution_count": null,
   "id": "0c9e5dc7",
   "metadata": {},
   "outputs": [],
   "source": [
    "puuid_empty"
   ]
  },
  {
   "cell_type": "code",
   "execution_count": null,
   "id": "d826feac",
   "metadata": {},
   "outputs": [],
   "source": [
    "# Removing identified empty row\n",
    "puuid_df.drop(76, axis=0, inplace=True)"
   ]
  },
  {
   "cell_type": "code",
   "execution_count": null,
   "id": "13907d58",
   "metadata": {},
   "outputs": [],
   "source": [
    "puuid_df = puuid_df.reset_index()"
   ]
  },
  {
   "cell_type": "code",
   "execution_count": null,
   "id": "4a5110e8",
   "metadata": {},
   "outputs": [],
   "source": [
    "puuid_df.drop('index', axis=1, inplace=True)\n",
    "puuid_df"
   ]
  },
  {
   "cell_type": "code",
   "execution_count": null,
   "id": "5eb71559",
   "metadata": {},
   "outputs": [],
   "source": [
    "#puuid_df.to_csv('formatted_summoner_data')"
   ]
  },
  {
   "cell_type": "markdown",
   "id": "e1096579",
   "metadata": {},
   "source": [
    "### Pulling list of matches for each summoner PUUID from the API"
   ]
  },
  {
   "cell_type": "code",
   "execution_count": null,
   "id": "f4a0b03a",
   "metadata": {},
   "outputs": [],
   "source": [
    "unformatted_match_df = pd.DataFrame([])\n",
    "unformatted_match_df"
   ]
  },
  {
   "cell_type": "code",
   "execution_count": null,
   "id": "130ae3c8",
   "metadata": {},
   "outputs": [],
   "source": [
    "# If statement necessary to account for rate limiting\n",
    "for i in range(len(puuid_df)):\n",
    "    if i != 0 and i % 100 == 0:\n",
    "        time.sleep(120)\n",
    "    unformatted_match_df = pd.concat([unformatted_match_df, pd.Series(\n",
    "                            get_matches(puuid_df['puuid'][i], os.getenv('key')))],\n",
    "                            ignore_index=True)"
   ]
  },
  {
   "cell_type": "code",
   "execution_count": null,
   "id": "9cda6321",
   "metadata": {},
   "outputs": [],
   "source": [
    "# Reformatting to simplify DataFrame into a single column\n",
    "formatted_match_df = pd.DataFrame()\n",
    "for i in range(len(unformatted_match_df)):\n",
    "    temp = unformatted_match_df[i]\n",
    "    formatted_match_df = pd.concat([formatted_match_df, pd.DataFrame(temp)], ignore_index=True)\n",
    "\n",
    "formatted_match_df"
   ]
  },
  {
   "cell_type": "code",
   "execution_count": null,
   "id": "81f7680f",
   "metadata": {},
   "outputs": [],
   "source": [
    "# Removing duplicate rows\n",
    "formatted_match_df = formatted_match_df.drop_duplicates()"
   ]
  },
  {
   "cell_type": "code",
   "execution_count": null,
   "id": "5aea1f59",
   "metadata": {},
   "outputs": [],
   "source": [
    "formatted_match_df"
   ]
  },
  {
   "cell_type": "code",
   "execution_count": null,
   "id": "8460b0f6",
   "metadata": {},
   "outputs": [],
   "source": [
    "formatted_match_df = formatted_match_df.reset_index()"
   ]
  },
  {
   "cell_type": "code",
   "execution_count": null,
   "id": "41420a9b",
   "metadata": {},
   "outputs": [],
   "source": [
    "formatted_match_df = formatted_match_df.drop('index', axis=1)\n",
    "formatted_match_df"
   ]
  },
  {
   "cell_type": "code",
   "execution_count": null,
   "id": "1e0bad09",
   "metadata": {},
   "outputs": [],
   "source": [
    "#formatted_match_df.to_csv('formatted_match_df.csv')"
   ]
  },
  {
   "cell_type": "markdown",
   "id": "e997cb05",
   "metadata": {},
   "source": [
    "### Pulling match data for each match in the formatted_match_df"
   ]
  },
  {
   "cell_type": "code",
   "execution_count": null,
   "id": "7abaf1af",
   "metadata": {},
   "outputs": [],
   "source": [
    "formatted_match_stats_df = pd.DataFrame()\n",
    "\n",
    "for i in range(len(formatted_match_df)):\n",
    "    if i != 0 and i % 100 == 0:\n",
    "        print(i)\n",
    "        time.sleep(120)\n",
    "    temp = pd.read_json(get_match_stats(formatted_match_df[0][i], os.getenv('key')),\n",
    "                        orient='index').drop('metadata', axis=0).drop(['dataVersion', 'matchId'], axis=1)\n",
    "    temp = pd.concat([temp.drop(['participants', 'teams'], axis=1), temp['participants'].apply(pd.Series).rename(columns={\n",
    "                                                        0:'T1P1',1:'T1P2',2:'T1P3',3:'T1P4',4:'T1P5',\n",
    "                                                        5:'T2P1',6:'T2P2',7:'T2P3',8:'T2P4',9:'T2P5'}),\n",
    "                                                        temp['teams'].apply(pd.Series).rename(columns={\n",
    "                                                        0:'teamOne', 1:'teamTwo'})], axis=1)\n",
    "    \n",
    "    formatted_match_stats_df = pd.concat([formatted_match_stats_df, temp], axis=0, ignore_index=True)"
   ]
  },
  {
   "cell_type": "code",
   "execution_count": null,
   "id": "ad15aea8",
   "metadata": {},
   "outputs": [],
   "source": [
    "formatted_match_stats_df"
   ]
  },
  {
   "cell_type": "markdown",
   "id": "0dc619d9",
   "metadata": {},
   "source": [
    "# To recreate the data transformation process, please run the cells below"
   ]
  },
  {
   "cell_type": "code",
   "execution_count": null,
   "id": "88632261",
   "metadata": {},
   "outputs": [],
   "source": [
    "#formatted_match_stats_df.to_csv('formatted_match_stats_df.csv')\n",
    "formatted_match_stats_df = pd.read_csv('formatted_match_stats_df.csv')"
   ]
  },
  {
   "cell_type": "code",
   "execution_count": null,
   "id": "42f60675",
   "metadata": {},
   "outputs": [],
   "source": [
    "# Removing non-competitive matches\n",
    "formatted_match_stats_df = formatted_match_stats_df[formatted_match_stats_df.gameType != \"CUSTOM_GAME\"]"
   ]
  },
  {
   "cell_type": "code",
   "execution_count": null,
   "id": "9fdd7201",
   "metadata": {},
   "outputs": [],
   "source": [
    "# Removing more non-competitive matches\n",
    "formatted_match_stats_df = formatted_match_stats_df[(formatted_match_stats_df.gameMode != 'ARAM') & \n",
    "                         (formatted_match_stats_df.gameMode != 'TUTORIAL_MODULE_1') &\n",
    "                         (formatted_match_stats_df.gameMode != 'ONEFORALL')]"
   ]
  },
  {
   "cell_type": "code",
   "execution_count": null,
   "id": "20b2d2d1",
   "metadata": {},
   "outputs": [],
   "source": [
    "formatted_match_stats_df"
   ]
  },
  {
   "cell_type": "code",
   "execution_count": null,
   "id": "065c9c29",
   "metadata": {},
   "outputs": [],
   "source": [
    "formatted_match_stats_df.gameMode.unique()"
   ]
  },
  {
   "cell_type": "code",
   "execution_count": null,
   "id": "1af66cde",
   "metadata": {},
   "outputs": [],
   "source": [
    "formatted_match_stats_df.info()"
   ]
  },
  {
   "cell_type": "code",
   "execution_count": null,
   "id": "c7e4dc37",
   "metadata": {},
   "outputs": [],
   "source": [
    "formatted_match_stats_df.drop('Unnamed: 0', axis=1, inplace=True)\n",
    "formatted_match_stats_df"
   ]
  },
  {
   "cell_type": "code",
   "execution_count": null,
   "id": "80f37924",
   "metadata": {},
   "outputs": [],
   "source": [
    "formatted_match_stats_df.drop(['gameCreation', 'gameDuration', 'gameEndTimestamp', 'gameId', 'gameMode', 'gameStartTimestamp',\n",
    "                               'gameType', 'gameVersion', 'mapId', 'gameName', 'platformId', \n",
    "                               'queueId', 'tournamentCode'], axis=1, inplace=True)"
   ]
  },
  {
   "cell_type": "code",
   "execution_count": null,
   "id": "f93de059",
   "metadata": {},
   "outputs": [],
   "source": [
    "formatted_match_stats_df"
   ]
  },
  {
   "cell_type": "code",
   "execution_count": null,
   "id": "0be7268d",
   "metadata": {},
   "outputs": [],
   "source": [
    "#formatted_match_stats_df.to_csv('probably_final_stats.csv')"
   ]
  },
  {
   "cell_type": "code",
   "execution_count": null,
   "id": "7abd660d",
   "metadata": {},
   "outputs": [],
   "source": [
    "# Formatting match status to ensure all columns are numeric and contain a single feature\n",
    "needed_keys = ['totalTimeSpentDead', 'goldEarned', \n",
    "               'wardsKilled', 'totalMinionsKilled', 'wardsPlaced']"
   ]
  },
  {
   "cell_type": "code",
   "execution_count": null,
   "id": "987260d4",
   "metadata": {},
   "outputs": [],
   "source": [
    "# Testing dictionary comprehension that will be used for formatting\n",
    "player_dict = {key:value for key,value in eval(formatted_match_stats_df['T1P1'][0]).items() if key in needed_keys}\n",
    "player_dict"
   ]
  },
  {
   "cell_type": "code",
   "execution_count": null,
   "id": "f595cd11",
   "metadata": {},
   "outputs": [],
   "source": [
    "# Converting team one player one column to Python dictionary\n",
    "formatted_match_stats_df['T1P1'] = formatted_match_stats_df['T1P1'].map(eval)\n",
    "formatted_match_stats_df['T1P1']"
   ]
  },
  {
   "cell_type": "code",
   "execution_count": null,
   "id": "8a7a6020",
   "metadata": {},
   "outputs": [],
   "source": [
    "# Converting team one player two column to Python dictionary\n",
    "formatted_match_stats_df['T1P2'] = formatted_match_stats_df['T1P2'].map(eval)\n",
    "formatted_match_stats_df['T1P2']"
   ]
  },
  {
   "cell_type": "code",
   "execution_count": null,
   "id": "f9ddee46",
   "metadata": {},
   "outputs": [],
   "source": [
    "# Removing unwanted features in team one player one column\n",
    "formatted_match_stats_df['T1P1'] = \\\n",
    "    formatted_match_stats_df['T1P1'].apply(lambda x: {key:value for key,value in x.items() if key in needed_keys})"
   ]
  },
  {
   "cell_type": "code",
   "execution_count": null,
   "id": "2c18cc9a",
   "metadata": {},
   "outputs": [],
   "source": [
    "formatted_match_stats_df['T1P1']"
   ]
  },
  {
   "cell_type": "code",
   "execution_count": null,
   "id": "17ce0be1",
   "metadata": {},
   "outputs": [],
   "source": [
    "# Removing unwanted features in team one player two column\n",
    "formatted_match_stats_df['T1P2'] = \\\n",
    "    formatted_match_stats_df['T1P2'].apply(lambda x: {key:value for key,value in x.items() if key in needed_keys})"
   ]
  },
  {
   "cell_type": "code",
   "execution_count": null,
   "id": "df34738e",
   "metadata": {},
   "outputs": [],
   "source": [
    "# Converting remaining player columns to Python dictionaries\n",
    "formatted_match_stats_df['T1P3'] = formatted_match_stats_df['T1P3'].map(eval)\n",
    "\n",
    "formatted_match_stats_df['T1P4'] = formatted_match_stats_df['T1P4'].map(eval)\n",
    "\n",
    "formatted_match_stats_df['T1P5'] = formatted_match_stats_df['T1P5'].map(eval)\n",
    "\n",
    "formatted_match_stats_df['T2P1'] = formatted_match_stats_df['T2P1'].map(eval)\n",
    "\n",
    "formatted_match_stats_df['T2P2'] = formatted_match_stats_df['T2P2'].map(eval)\n",
    "\n",
    "formatted_match_stats_df['T2P3'] = formatted_match_stats_df['T2P3'].map(eval)\n",
    "\n",
    "formatted_match_stats_df['T2P4'] = formatted_match_stats_df['T2P4'].map(eval)\n",
    "\n",
    "formatted_match_stats_df['T2P5'] = formatted_match_stats_df['T2P5'].map(eval)"
   ]
  },
  {
   "cell_type": "code",
   "execution_count": null,
   "id": "7bf7f8cc",
   "metadata": {},
   "outputs": [],
   "source": [
    "# Removing unwanted features in remaining player columns\n",
    "formatted_match_stats_df['T1P3'] = \\\n",
    "    formatted_match_stats_df['T1P3'].apply(lambda x: {key:value for key,value in x.items() if key in needed_keys})\n",
    "\n",
    "formatted_match_stats_df['T1P4'] = \\\n",
    "    formatted_match_stats_df['T1P4'].apply(lambda x: {key:value for key,value in x.items() if key in needed_keys})\n",
    "\n",
    "formatted_match_stats_df['T1P5'] = \\\n",
    "    formatted_match_stats_df['T1P5'].apply(lambda x: {key:value for key,value in x.items() if key in needed_keys})\n",
    "\n",
    "formatted_match_stats_df['T2P1'] = \\\n",
    "    formatted_match_stats_df['T2P1'].apply(lambda x: {key:value for key,value in x.items() if key in needed_keys})\n",
    "\n",
    "formatted_match_stats_df['T2P2'] = \\\n",
    "    formatted_match_stats_df['T2P2'].apply(lambda x: {key:value for key,value in x.items() if key in needed_keys})\n",
    "\n",
    "formatted_match_stats_df['T2P3'] = \\\n",
    "    formatted_match_stats_df['T2P3'].apply(lambda x: {key:value for key,value in x.items() if key in needed_keys})\n",
    "\n",
    "formatted_match_stats_df['T2P4'] = \\\n",
    "    formatted_match_stats_df['T2P4'].apply(lambda x: {key:value for key,value in x.items() if key in needed_keys})\n",
    "\n",
    "formatted_match_stats_df['T2P5'] = \\\n",
    "    formatted_match_stats_df['T2P5'].apply(lambda x: {key:value for key,value in x.items() if key in needed_keys})"
   ]
  },
  {
   "cell_type": "code",
   "execution_count": null,
   "id": "03592f46",
   "metadata": {},
   "outputs": [],
   "source": [
    "formatted_match_stats_df"
   ]
  },
  {
   "cell_type": "code",
   "execution_count": null,
   "id": "149958d7",
   "metadata": {},
   "outputs": [],
   "source": [
    "# Expanding each team one player column to ensure each column contains only one feature\n",
    "match_stats_test_df = pd.concat([formatted_match_stats_df.drop(['T1P1', 'T1P2', 'T1P3', 'T1P4', 'T1P5'], axis=1), \n",
    "                                       formatted_match_stats_df['T1P1'].apply(pd.Series),\n",
    "                                       formatted_match_stats_df['T1P2'].apply(pd.Series),\n",
    "                                       formatted_match_stats_df['T1P3'].apply(pd.Series),\n",
    "                                       formatted_match_stats_df['T1P4'].apply(pd.Series),\n",
    "                                       formatted_match_stats_df['T1P5'].apply(pd.Series)],\n",
    "                                      axis=1)"
   ]
  },
  {
   "cell_type": "code",
   "execution_count": null,
   "id": "5d212043",
   "metadata": {},
   "outputs": [],
   "source": [
    "match_stats_test_df"
   ]
  },
  {
   "cell_type": "code",
   "execution_count": null,
   "id": "a6eaaad2",
   "metadata": {},
   "outputs": [],
   "source": [
    "# Grouping by column name to aggregate all player stats for team one\n",
    "match_stats_test_df = match_stats_test_df.groupby(match_stats_test_df.columns, axis=1).sum()"
   ]
  },
  {
   "cell_type": "code",
   "execution_count": null,
   "id": "1ba8d561",
   "metadata": {},
   "outputs": [],
   "source": [
    "match_stats_test_df"
   ]
  },
  {
   "cell_type": "code",
   "execution_count": null,
   "id": "e3b73847",
   "metadata": {},
   "outputs": [],
   "source": [
    "# Renaming columns to properly identify team one columns\n",
    "match_stats_test_df.rename(columns={'goldEarned':'T1goldEarned', 'totalMinionsKilled':'T1totalMinionsKilled',\n",
    "                                    'totalTimeSpentDead':'T1totalTimeSpentDead', 'wardsKilled':'T1wardsKilled',\n",
    "                                    'wardsPlaced':'T1wardsPlaced'}, inplace=True)"
   ]
  },
  {
   "cell_type": "code",
   "execution_count": null,
   "id": "cfd81315",
   "metadata": {},
   "outputs": [],
   "source": [
    "match_stats_test_df"
   ]
  },
  {
   "cell_type": "code",
   "execution_count": null,
   "id": "67e0ab80",
   "metadata": {},
   "outputs": [],
   "source": [
    "# Expanding each team two player column to ensure each column contains only one feature\n",
    "match_stats_test_df = pd.concat([match_stats_test_df.drop(['T2P1', 'T2P2', 'T2P3', 'T2P4', 'T2P5'], axis=1), \n",
    "                                       match_stats_test_df['T2P1'].apply(pd.Series),\n",
    "                                       match_stats_test_df['T2P2'].apply(pd.Series),\n",
    "                                       match_stats_test_df['T2P3'].apply(pd.Series),\n",
    "                                       match_stats_test_df['T2P4'].apply(pd.Series),\n",
    "                                       match_stats_test_df['T2P5'].apply(pd.Series)],\n",
    "                                      axis=1)"
   ]
  },
  {
   "cell_type": "code",
   "execution_count": null,
   "id": "68f1a71a",
   "metadata": {},
   "outputs": [],
   "source": [
    "match_stats_test_df"
   ]
  },
  {
   "cell_type": "code",
   "execution_count": null,
   "id": "781b2bc9",
   "metadata": {},
   "outputs": [],
   "source": [
    "# Grouping by column name to aggregate all player stats for team two\n",
    "match_stats_test_df = match_stats_test_df.groupby(match_stats_test_df.columns, axis=1).sum()"
   ]
  },
  {
   "cell_type": "code",
   "execution_count": null,
   "id": "58bfef9b",
   "metadata": {},
   "outputs": [],
   "source": [
    "# Renaming columns to properly identify team two columns\n",
    "match_stats_test_df.rename(columns={'goldEarned':'T2goldEarned', 'totalMinionsKilled':'T2totalMinionsKilled',\n",
    "                                    'totalTimeSpentDead':'T2totalTimeSpentDead', 'wardsKilled':'T2wardsKilled',\n",
    "                                    'wardsPlaced':'T2wardsPlaced'}, inplace=True)"
   ]
  },
  {
   "cell_type": "code",
   "execution_count": null,
   "id": "80a9da28",
   "metadata": {},
   "outputs": [],
   "source": [
    "# Formatting more matchs stat columns to ensure all columns are numeric and contain a single feature\n",
    "needed_keys = ['objectives', 'win']"
   ]
  },
  {
   "cell_type": "code",
   "execution_count": null,
   "id": "76ef7f94",
   "metadata": {},
   "outputs": [],
   "source": [
    "# Converting columns to dictionaries\n",
    "match_stats_test_df['teamOne'] = match_stats_test_df['teamOne'].map(eval)\n",
    "match_stats_test_df['teamTwo'] = match_stats_test_df['teamTwo'].map(eval)"
   ]
  },
  {
   "cell_type": "code",
   "execution_count": null,
   "id": "792bf556",
   "metadata": {},
   "outputs": [],
   "source": [
    "# Reducing features\n",
    "match_stats_test_df['teamOne'] = \\\n",
    "    match_stats_test_df['teamOne'].apply(lambda x: {key:value for key,value in x.items() if key in needed_keys})"
   ]
  },
  {
   "cell_type": "code",
   "execution_count": null,
   "id": "24ab71d4",
   "metadata": {},
   "outputs": [],
   "source": [
    "# Reducing features\n",
    "needed_keys = ['objectives']\n",
    "match_stats_test_df['teamTwo'] = \\\n",
    "    match_stats_test_df['teamTwo'].apply(lambda x: {key:value for key,value in x.items() if key in needed_keys})"
   ]
  },
  {
   "cell_type": "code",
   "execution_count": null,
   "id": "b90eb34e",
   "metadata": {},
   "outputs": [],
   "source": [
    "match_stats_test_df['teamOne'][0]"
   ]
  },
  {
   "cell_type": "code",
   "execution_count": null,
   "id": "4c04d6e3",
   "metadata": {},
   "outputs": [],
   "source": [
    "match_stats_test_df['teamTwo'][0]"
   ]
  },
  {
   "cell_type": "code",
   "execution_count": null,
   "id": "34bc2f1a",
   "metadata": {},
   "outputs": [],
   "source": [
    "# Expanding columns to ensure each column only has one feature\n",
    "match_stats_test_formatted_df = pd.concat([match_stats_test_df.drop(['teamOne', 'teamTwo'], axis=1), \n",
    "                                       match_stats_test_df['teamOne'].apply(pd.Series),\n",
    "                                       match_stats_test_df['teamTwo'].apply(pd.Series),],\n",
    "                                      axis=1)"
   ]
  },
  {
   "cell_type": "code",
   "execution_count": null,
   "id": "e64c00a9",
   "metadata": {},
   "outputs": [],
   "source": [
    "match_stats_test_formatted_df"
   ]
  },
  {
   "cell_type": "code",
   "execution_count": null,
   "id": "3129d063",
   "metadata": {},
   "outputs": [],
   "source": [
    "# Appropriately renaming the team one win column created through expansion\n",
    "match_stats_test_formatted_df.rename(columns={'win':'T1win'}, inplace=True)"
   ]
  },
  {
   "cell_type": "code",
   "execution_count": null,
   "id": "a9165786",
   "metadata": {},
   "outputs": [],
   "source": [
    "match_stats_test_formatted_df"
   ]
  },
  {
   "cell_type": "code",
   "execution_count": null,
   "id": "5061f471",
   "metadata": {},
   "outputs": [],
   "source": [
    "# Remaining columns to remove duplicate column names\n",
    "match_stats_test_formatted_df.columns = ['T1goldEarned', 'T1totalMinionsKilled', 'T1totalTimeSpentDead', 'T1wardsKilled',\n",
    "                                         'T1wardsPlaced', 'T2goldEarned', 'T2totalMinionsKilled', 'T2totalTimeSpentDead',\n",
    "                                         'T2wardsKilled', 'T2wardsPlaced', 'T1objectives', 'T1win', 'T2objectives']"
   ]
  },
  {
   "cell_type": "code",
   "execution_count": null,
   "id": "3a21040f",
   "metadata": {},
   "outputs": [],
   "source": [
    "match_stats_test_formatted_df"
   ]
  },
  {
   "cell_type": "code",
   "execution_count": null,
   "id": "ca83f4a3",
   "metadata": {},
   "outputs": [],
   "source": [
    "# Ensuring that T1/T2/objectives columns contains Python dictionaries, may get an error.\n",
    "# If so, move on to the next cell.\n",
    "match_stats_test_formatted_df['T1objectives'] = match_stats_test_formatted_df['T1objectives'].map(eval)\n",
    "match_stats_test_formatted_df['T2objectives'] = match_stats_test_formatted_df['T2objectives'].map(eval)"
   ]
  },
  {
   "cell_type": "code",
   "execution_count": null,
   "id": "2dcdfbb2",
   "metadata": {},
   "outputs": [],
   "source": [
    "# Writing a function to reduce features in objective columns\n",
    "def remove_key(objective_dict):\n",
    "    objective_dict.get('baron').pop('first')\n",
    "    objective_dict.get('champion').pop('first')\n",
    "    objective_dict.get('dragon').pop('first')\n",
    "    objective_dict.get('inhibitor').pop('first')\n",
    "    objective_dict.get('riftHerald').pop('first')\n",
    "    objective_dict.get('tower').pop('first')\n",
    "    return"
   ]
  },
  {
   "cell_type": "code",
   "execution_count": null,
   "id": "01ca658c",
   "metadata": {},
   "outputs": [],
   "source": [
    "match_stats_test_formatted_df['T1objectives'].map(remove_key)"
   ]
  },
  {
   "cell_type": "code",
   "execution_count": null,
   "id": "45be6e5f",
   "metadata": {},
   "outputs": [],
   "source": [
    "match_stats_test_formatted_df"
   ]
  },
  {
   "cell_type": "code",
   "execution_count": null,
   "id": "c3738590",
   "metadata": {},
   "outputs": [],
   "source": [
    "# Expanding T1objecrtives into multiple columns\n",
    "match_stats_test_formatted_df = pd.concat([match_stats_test_formatted_df.drop('T1objectives', axis=1),\n",
    "                                           match_stats_test_formatted_df['T1objectives'].apply(pd.Series)],\n",
    "                                         axis=1)"
   ]
  },
  {
   "cell_type": "code",
   "execution_count": null,
   "id": "2d14111c",
   "metadata": {},
   "outputs": [],
   "source": [
    "match_stats_test_formatted_df"
   ]
  },
  {
   "cell_type": "code",
   "execution_count": null,
   "id": "42e9db8e",
   "metadata": {},
   "outputs": [],
   "source": [
    "# Function to transform objective columns' data into numeric form\n",
    "def get_kills(kill_dict):\n",
    "    return kill_dict.get('kills')"
   ]
  },
  {
   "cell_type": "code",
   "execution_count": null,
   "id": "2b9098ad",
   "metadata": {},
   "outputs": [],
   "source": [
    "# Transforming objective columns' data into numberic form\n",
    "match_stats_test_formatted_df['baron'] = match_stats_test_formatted_df['baron'].apply(get_kills)\n",
    "\n",
    "match_stats_test_formatted_df['champion'] = match_stats_test_formatted_df['champion'].apply(get_kills)\n",
    "\n",
    "match_stats_test_formatted_df['dragon'] = match_stats_test_formatted_df['dragon'].apply(get_kills)\n",
    "\n",
    "match_stats_test_formatted_df['inhibitor'] = match_stats_test_formatted_df['inhibitor'].apply(get_kills)\n",
    "\n",
    "match_stats_test_formatted_df['riftHerald'] = match_stats_test_formatted_df['riftHerald'].apply(get_kills)\n",
    "\n",
    "match_stats_test_formatted_df['tower'] = match_stats_test_formatted_df['tower'].apply(get_kills)"
   ]
  },
  {
   "cell_type": "code",
   "execution_count": null,
   "id": "8253b185",
   "metadata": {},
   "outputs": [],
   "source": [
    "match_stats_test_formatted_df"
   ]
  },
  {
   "cell_type": "code",
   "execution_count": null,
   "id": "18d5b561",
   "metadata": {},
   "outputs": [],
   "source": [
    "# Renaming columns to identify them as belong to team one\n",
    "match_stats_test_formatted_df.rename(columns={\"baron\": \"T1baron\", \"champion\": \"T1champion\", \"dragon\":\"T1dragon\",\n",
    "                                               \"inhibitor\":\"T1inhibitor\", \"riftHerald\":\"T1riftHerald\", \"tower\":\"T1tower\"},\n",
    "                                     inplace=True)"
   ]
  },
  {
   "cell_type": "code",
   "execution_count": null,
   "id": "ca4a83a0",
   "metadata": {},
   "outputs": [],
   "source": [
    "match_stats_test_formatted_df"
   ]
  },
  {
   "cell_type": "code",
   "execution_count": null,
   "id": "e17df5b9",
   "metadata": {},
   "outputs": [],
   "source": [
    "# Repeating previous steps for T2objectives\n",
    "match_stats_test_formatted_df['T2objectives'].map(remove_key)\n",
    "\n",
    "match_stats_test_formatted_df = pd.concat([match_stats_test_formatted_df.drop('T2objectives', axis=1),\n",
    "                                           match_stats_test_formatted_df['T2objectives'].apply(pd.Series)],\n",
    "                                         axis=1)\n",
    "\n",
    "match_stats_test_formatted_df"
   ]
  },
  {
   "cell_type": "code",
   "execution_count": null,
   "id": "b27e7712",
   "metadata": {},
   "outputs": [],
   "source": [
    "match_stats_test_formatted_df['baron'] = match_stats_test_formatted_df['baron'].apply(get_kills)\n",
    "\n",
    "match_stats_test_formatted_df['champion'] = match_stats_test_formatted_df['champion'].apply(get_kills)\n",
    "\n",
    "match_stats_test_formatted_df['dragon'] = match_stats_test_formatted_df['dragon'].apply(get_kills)\n",
    "\n",
    "match_stats_test_formatted_df['inhibitor'] = match_stats_test_formatted_df['inhibitor'].apply(get_kills)\n",
    "\n",
    "match_stats_test_formatted_df['riftHerald'] = match_stats_test_formatted_df['riftHerald'].apply(get_kills)\n",
    "\n",
    "match_stats_test_formatted_df['tower'] = match_stats_test_formatted_df['tower'].apply(get_kills)"
   ]
  },
  {
   "cell_type": "code",
   "execution_count": null,
   "id": "4738447c",
   "metadata": {},
   "outputs": [],
   "source": [
    "match_stats_test_formatted_df"
   ]
  },
  {
   "cell_type": "code",
   "execution_count": null,
   "id": "d34ed061",
   "metadata": {},
   "outputs": [],
   "source": [
    "match_stats_test_formatted_df.rename(columns={\"baron\": \"T2baron\", \"champion\": \"T2champion\", \"dragon\":\"T2dragon\",\n",
    "                                               \"inhibitor\":\"T2inhibitor\", \"riftHerald\":\"T2riftHerald\", \"tower\":\"T2tower\"},\n",
    "                                     inplace=True)"
   ]
  },
  {
   "cell_type": "code",
   "execution_count": null,
   "id": "68fea100",
   "metadata": {},
   "outputs": [],
   "source": [
    "match_stats_test_formatted_df"
   ]
  },
  {
   "cell_type": "code",
   "execution_count": null,
   "id": "1a9797e4",
   "metadata": {},
   "outputs": [],
   "source": [
    "# Transforming boolean data to integer form\n",
    "match_stats_test_formatted_df['T1win'] = match_stats_test_formatted_df['T1win'].astype(int)"
   ]
  },
  {
   "cell_type": "code",
   "execution_count": null,
   "id": "b336cee7",
   "metadata": {},
   "outputs": [],
   "source": [
    "#match_stats_test_formatted_df.to_csv('fully_numeric_match_stats.csv')"
   ]
  }
 ],
 "metadata": {
  "kernelspec": {
   "display_name": "Python 3 (ipykernel)",
   "language": "python",
   "name": "python3"
  },
  "language_info": {
   "codemirror_mode": {
    "name": "ipython",
    "version": 3
   },
   "file_extension": ".py",
   "mimetype": "text/x-python",
   "name": "python",
   "nbconvert_exporter": "python",
   "pygments_lexer": "ipython3",
   "version": "3.9.12"
  }
 },
 "nbformat": 4,
 "nbformat_minor": 5
}
